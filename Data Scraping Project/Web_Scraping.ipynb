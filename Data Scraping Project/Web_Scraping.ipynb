{
 "cells": [
  {
   "cell_type": "code",
   "execution_count": 11,
   "id": "4c5491e7",
   "metadata": {},
   "outputs": [
    {
     "ename": "SyntaxError",
     "evalue": "incomplete input (3816992707.py, line 25)",
     "output_type": "error",
     "traceback": [
      "\u001b[1;36m  Cell \u001b[1;32mIn[11], line 25\u001b[1;36m\u001b[0m\n\u001b[1;33m    \u001b[0m\n\u001b[1;37m    ^\u001b[0m\n\u001b[1;31mSyntaxError\u001b[0m\u001b[1;31m:\u001b[0m incomplete input\n"
     ]
    }
   ],
   "source": [
    "import pandas as pd\n",
    "from selenium import webdriver\n",
    "from selenium.webdriver.common.by import By\n",
    "\n",
    "\n",
    "data = pd.read_excel('Input.xlsx')\n",
    "data\n",
    "driver= webdriver.Edge(executable_path='msedgedriver.exe')\n",
    "\n",
    "for i in range(0,1):\n",
    "    print(\"URL-------------\",i)\n",
    "    df = data.iloc[i]\n",
    "    col_url = df['URL']\n",
    "    col_url_id = df['URL_ID']\n",
    "    print(col_url_id,col_url)\n",
    "    driver.get(col_url)\n",
    "    print(\"EXTRACTED DATA OF -------------\",i) \n",
    "    a = new_driver.find_elements_by_class_name('td-ss-main-content')\n",
    "    for i in a:\n",
    "        c = i.text\n",
    "    print(c)  \n",
    "    file_path = f\"{df['URL_ID']}.txt\"\n",
    "    with open(file_path,\"w\") as file:\n",
    "        file.write(driver.find_element_by_class_name('td-ss-main-content').text\n",
    "   "
   ]
  },
  {
   "cell_type": "code",
   "execution_count": 1,
   "id": "38f75145",
   "metadata": {},
   "outputs": [
    {
     "name": "stderr",
     "output_type": "stream",
     "text": [
      "C:\\Users\\Sanchit Goel\\AppData\\Local\\Temp\\ipykernel_18280\\4080830028.py:2: DeprecationWarning: executable_path has been deprecated, please pass in a Service object\n",
      "  new_driver = webdriver.Edge(executable_path = 'msedgedriver.exe')\n"
     ]
    }
   ],
   "source": [
    "from selenium import webdriver\n",
    "new_driver = webdriver.Edge(executable_path = 'msedgedriver.exe')\n",
    "new_driver.get(\"https://insights.blackcoffer.com/rise-of-telemedicine-and-its-impact-on-livelihood-by-2040-3-2/\")\n",
    "\n",
    "from selenium.webdriver.common.by import By\n",
    "a = new_driver.find_elements_by_class_name('td-ss-main-content')\n",
    "for i in a:\n",
    "    c = i.text\n",
    "print(c)  "
   ]
  },
  {
   "cell_type": "code",
   "execution_count": 10,
   "id": "90236298",
   "metadata": {},
   "outputs": [
    {
     "name": "stdout",
     "output_type": "stream",
     "text": [
      "Telemedicine, the use of technology to diagnose and treat patients remotely, has been rising in recent years. With the advent of high-speed internet and improved video conferencing tools, healthcare providers are increasingly turning to telemedicine to provide care to patients in remote or underserved areas.\n",
      "Telemedicine, using technology to provide healthcare services remotely, has recently gained popularity. With advancements in communication and medical technology, it has become increasingly possible for doctors and patients to connect and interact from anywhere in the world. This has led to the rise of telemedicine, which has the potential to revolutionize the way healthcare is delivered.#Telemedicine\n",
      "The increasing focus on preventative healthcare has also driven the rise of telemedicine. As more and more people become aware of the importance of staying healthy, they are looking for ways to prevent illness and maintain their health. Telemedicine allows people to monitor their health and get advice from healthcare providers without traveling to a clinic or hospital.\n",
      "Improved access to healthcare: One of the biggest challenges in the healthcare industry is the unequal distribution of medical resources, with many remote and rural areas lacking access to quality care. Telemedicine can help bridge this gap by allowing patients in these underserved areas to connect with healthcare providers worldwide. This can give people access to specialized medical care that they would otherwise not be able to receive, improving their health and overall well-being.#Healthcare\n",
      "Greater convenience and flexibility: Telemedicine also offers a level of convenience and flexibility that is impossible with traditional in-person medical visits. Patients can consult with their healthcare providers from the comfort of their own homes, saving time and money on travel. This is particularly beneficial for individuals who have mobility issues or who live in areas with limited access to medical facilities.\n",
      "Reduced healthcare costs: By enabling patients to receive care remotely, telemedicine can help reduce the overall cost of healthcare. This is because telemedicine visits are generally less expensive than in-person visits and can help prevent the need for more costly interventions, such as hospitalizations. As a result, telemedicine has the potential to make healthcare more affordable for patients and healthcare providers alike.#Costs\n",
      "Enhanced healthcare outcomes: Telemedicine can also improve patients’ quality of care. By allowing healthcare providers to access medical records and other important information remotely, telemedicine can help ensure that patients receive the most appropriate care for their needs. This can lead to better health outcomes and a higher quality of life for patients.#Enhanced\n",
      "More significant job opportunities in the healthcare industry like healthcare sector, including for healthcare providers, support staff, and technology experts. This can provide a boost to local economies and help to reduce unemployment.#Jobs\n",
      "Better care for chronic conditions: Telemedicine can help patients with chronic conditions to manage their health more effectively, allowing them to receive regular check-ups and treatment without the need to travel long distances. This can improve the quality of life for these individuals and reduce the risk of complications from their conditions.\n",
      "Increased flexibility for patients and healthcare providers: Telemedicine allows patients and providers to schedule consultations at times convenient for them, improving the overall flexibility of the healthcare system. This can help to reduce wait times and improve patient satisfaction.\n",
      "Increased accessibility: Telemedicine makes healthcare more accessible to people living in rural and remote areas, who may not have easy access to medical facilities. With telemedicine, patients can consult with doctors and specialists from their homes using their phones, computers, or other devices. This means that more people will be able to get the medical care they need, regardless of where they live.\n",
      "Reduced costs: One of the most significant benefits of telemedicine is that it can reduce healthcare costs. Patients can avoid the costs of travel, accommodation, and time off work associated with in-person visits to the doctor. Telemedicine can also help reduce the cost of medical procedures, as doctors can remotely monitor patients and provide care without needing hospitalization.\n",
      "Improved health outcomes: By providing patients with access to medical care from the comfort of their own homes, telemedicine can help improve their health outcomes. For example, patients with chronic conditions can use telemedicine to manage their symptoms and reduce the risk of complications. Telemedicine can also help prevent the spread of infectious diseases, as patients can receive care without contacting other people.\n",
      "Increased convenience: Telemedicine offers a more convenient option for patients who need medical care. With telemedicine, patients can schedule appointments and consult with doctors at a convenient time without having to take time off work or arrange transportation. This can be especially beneficial for people with busy schedules or mobility issues.\n",
      "Telemedicine, or the use of electronic communication and information technologies to provide healthcare services remotely, has the potential to significantly impact the way we receive and deliver medical care. In the next 20 years, telemedicine will likely become an increasingly important part of our healthcare system, providing numerous benefits and improving the livelihood of many people.\n",
      "The benefits of telemedicine are numerous. For patients, it provides convenient access to medical care without traveling long distances. It also allows for faster diagnosis and treatment and improved continuity of care. For healthcare providers, telemedicine can reduce the strain on already-overburdened healthcare systems and make providing care to patients in remote areas more accessible.\n",
      "The rise of telemedicine will likely significantly impact how we receive medical care in the future. By 2040, it is estimated that telemedicine will be a standard part of the healthcare landscape, with more and more doctors using it to diagnose and treat patients remotely.\n",
      "One of the key drivers of the rise of telemedicine has been the increasing availability of high-speed internet and improved video conferencing tools. In the past, the video and audio quality of telemedicine consultations were often poor, making it difficult for doctors to diagnose and treat patients accurately. However, with faster internet speeds and better video conferencing tools, telemedicine consultations are just as good as in-person visits.\n",
      "Telemedicine makes healthcare more accessible. With telemedicine, patients no longer travel long distances to see a doctor or specialist. Instead, they can receive care from the comfort of their own home. This is particularly beneficial for people living in rural areas, where access to healthcare can be limited.\n",
      "Another factor contributing to the rise of telemedicine is the increasing demand for healthcare services. With the global population growing and people living longer, the need for medical care will only continue to increase. Telemedicine offers a way for healthcare providers to meet this demand by allowing them to provide care to more patients in a shorter amount of time.\n",
      "Another substantial impact of telemedicine is that it can improve patient quality of care. By using technology to connect patients with doctors, telemedicine can help ensure patients receive the best care possible. For example, a doctor can use video conferencing to consult with a specialist or use remote monitoring devices to track a patient’s vital signs. This can help doctors make more informed decisions and provide better treatment.\n",
      "Telemedicine also has the potential to reduce healthcare costs. By allowing patients to receive care from their homes, telemedicine can reduce the need for expensive hospital visits. In addition, telemedicine can help prevent the spread of infectious diseases, reducing healthcare costs by avoiding hospitalization.\n",
      "One of the critical impacts of telemedicine is that it can improve the patient experience. By providing patients with the ability to receive care from the comfort of their own homes, telemedicine can help reduce anxiety and stress. In addition, telemedicine can make it easier for patients to communicate with their doctors and get the answers they need.\n",
      "Another way in which telemedicine will impact people’s livelihoods is by making healthcare more efficient. By allowing doctors to diagnose and treat patients remotely, telemedicine will help reduce the time patients spend waiting to see a doctor. It will also help reduce doctors’ spending on administrative tasks, freeing them up to see more patients and provide better care.\n",
      "One major factor driving the rise of telemedicine is the increasing use of technology in healthcare. With advances in communication and medical technology, it is now possible for doctors and other healthcare providers to remotely diagnose and treat patients using video conferencing, remote monitoring, and other forms of telemedicine. This not only allows for more efficient and convenient healthcare delivery but also enables healthcare providers to offer specialized care to patients who otherwise may not have access to it.\n",
      "Another factor contributing to the rise of telemedicine is the need for improved access to healthcare. Patients may travel long distances in many rural and underserved areas; patients may travel long distances to access medical care. Telemedicine can bridge this gap by allowing patients in these areas to consult with healthcare providers remotely. This not only improves access to healthcare but also reduces the need for patients to travel long distances, saving them time and money.\n",
      "Finally, telemedicine’s rise is also driven by the growing trend of remote work. As more and more people work from home or other remote locations, the need for convenient and accessible healthcare is increasing. Telemedicine allows employees to consult with healthcare providers from their homes, reducing the need for them to take time off work to visit a doctor or other healthcare provider.\n",
      "Overall, the rise of telemedicine by 2040 is a result of a combination of factors, including the increasing use of technology in healthcare, the need for improved access to healthcare, and the growing trend of remote work. As these factors continue to evolve, likely, telemedicine will likely become an increasingly important part of the healthcare landscape.\n",
      "However, the rise of telemedicine is also likely to present some challenges. For example, telemedicine consultations may only be suitable for some medical conditions, and some patients may still need to see a doctor. Additionally, telemedicine may put some jobs at risk, such as receptionists and other administrative staff in healthcare facilities.\n",
      "Blackcoffer Insights 46: G.K.Harish Balaji, Indian Institute of Technology,Madras\n",
      "TAGS\n",
      "Better Care\n",
      "Economies\n",
      "Enhanced Healthcare Outcomes\n",
      "Flexibility\n",
      "Healthcare Convenience\n",
      "Job Opportunities\n",
      "Medical Facilities\n",
      "Reduced Healthcare Costs\n",
      "Telemedicine\n",
      "Previous article\n",
      "Rise of e-health and its impact on humans by the year 2030\n",
      "Next article\n",
      "AutoGPT Setup\n",
      "RELATED INSIGHTSMORE FROM AUTHOR\n",
      "Rise of cybercrime and its effect by the year 2040.\n",
      "Rising IT cities and its impact on the economy, environment, infrastructure, and city life by the year 2040.\n",
      "Rising IT Cities and Their Impact on the Economy, Environment, Infrastructure, and City Life in Future\n"
     ]
    },
    {
     "name": "stderr",
     "output_type": "stream",
     "text": [
      "C:\\Users\\Sanchit Goel\\AppData\\Local\\Temp\\ipykernel_18280\\2813389553.py:2: DeprecationWarning: find_elements_by_* commands are deprecated. Please use find_elements() instead\n",
      "  a = new_driver.find_elements_by_class_name('td-ss-main-content')\n"
     ]
    }
   ],
   "source": [
    "  "
   ]
  },
  {
   "cell_type": "code",
   "execution_count": 20,
   "id": "59fd0be7",
   "metadata": {},
   "outputs": [
    {
     "name": "stdout",
     "output_type": "stream",
     "text": [
      "Collecting selenium==4.0.0\n",
      "  Using cached selenium-4.0.0-py3-none-any.whl (954 kB)\n",
      "Requirement already satisfied: urllib3[secure]~=1.26 in e:\\anaconda\\lib\\site-packages (from selenium==4.0.0) (1.26.16)\n",
      "Requirement already satisfied: trio~=0.17 in e:\\anaconda\\lib\\site-packages (from selenium==4.0.0) (0.23.1)\n",
      "Requirement already satisfied: trio-websocket~=0.9 in e:\\anaconda\\lib\\site-packages (from selenium==4.0.0) (0.11.1)\n",
      "Requirement already satisfied: attrs>=20.1.0 in e:\\anaconda\\lib\\site-packages (from trio~=0.17->selenium==4.0.0) (22.1.0)\n",
      "Requirement already satisfied: sortedcontainers in e:\\anaconda\\lib\\site-packages (from trio~=0.17->selenium==4.0.0) (2.4.0)\n",
      "Requirement already satisfied: idna in e:\\anaconda\\lib\\site-packages (from trio~=0.17->selenium==4.0.0) (3.4)\n",
      "Requirement already satisfied: outcome in e:\\anaconda\\lib\\site-packages (from trio~=0.17->selenium==4.0.0) (1.3.0.post0)\n",
      "Requirement already satisfied: sniffio>=1.3.0 in e:\\anaconda\\lib\\site-packages (from trio~=0.17->selenium==4.0.0) (1.3.0)\n",
      "Requirement already satisfied: cffi>=1.14 in e:\\anaconda\\lib\\site-packages (from trio~=0.17->selenium==4.0.0) (1.15.1)\n",
      "Requirement already satisfied: wsproto>=0.14 in e:\\anaconda\\lib\\site-packages (from trio-websocket~=0.9->selenium==4.0.0) (1.2.0)\n",
      "Requirement already satisfied: pyOpenSSL>=0.14 in e:\\anaconda\\lib\\site-packages (from urllib3[secure]~=1.26->selenium==4.0.0) (23.2.0)\n",
      "Requirement already satisfied: cryptography>=1.3.4 in e:\\anaconda\\lib\\site-packages (from urllib3[secure]~=1.26->selenium==4.0.0) (41.0.3)\n",
      "Requirement already satisfied: certifi in e:\\anaconda\\lib\\site-packages (from urllib3[secure]~=1.26->selenium==4.0.0) (2023.7.22)\n",
      "Requirement already satisfied: urllib3-secure-extra in e:\\anaconda\\lib\\site-packages (from urllib3[secure]~=1.26->selenium==4.0.0) (0.1.0)\n",
      "Requirement already satisfied: pycparser in e:\\anaconda\\lib\\site-packages (from cffi>=1.14->trio~=0.17->selenium==4.0.0) (2.21)\n",
      "Requirement already satisfied: h11<1,>=0.9.0 in e:\\anaconda\\lib\\site-packages (from wsproto>=0.14->trio-websocket~=0.9->selenium==4.0.0) (0.14.0)\n",
      "Installing collected packages: selenium\n",
      "  Attempting uninstall: selenium\n",
      "    Found existing installation: selenium 4.9.1\n",
      "    Uninstalling selenium-4.9.1:\n",
      "      Successfully uninstalled selenium-4.9.1\n",
      "Successfully installed selenium-4.0.0\n"
     ]
    }
   ],
   "source": [
    "!pip install selenium==4.0.0"
   ]
  },
  {
   "cell_type": "code",
   "execution_count": null,
   "id": "39c35866",
   "metadata": {},
   "outputs": [],
   "source": []
  }
 ],
 "metadata": {
  "kernelspec": {
   "display_name": "Python 3 (ipykernel)",
   "language": "python",
   "name": "python3"
  },
  "language_info": {
   "codemirror_mode": {
    "name": "ipython",
    "version": 3
   },
   "file_extension": ".py",
   "mimetype": "text/x-python",
   "name": "python",
   "nbconvert_exporter": "python",
   "pygments_lexer": "ipython3",
   "version": "3.11.5"
  }
 },
 "nbformat": 4,
 "nbformat_minor": 5
}
